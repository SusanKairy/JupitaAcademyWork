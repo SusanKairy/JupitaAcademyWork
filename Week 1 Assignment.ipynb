{
 "cells": [
  {
   "cell_type": "markdown",
   "id": "feb26ace",
   "metadata": {},
   "source": [
    "### 1. Data Type and Basic Arimethic:"
   ]
  },
  {
   "cell_type": "code",
   "execution_count": 1,
   "id": "3ba9fcb2",
   "metadata": {},
   "outputs": [],
   "source": [
    "# Number of students in each grade\n",
    "Grade1= 25\n",
    "Grade2= 30\n",
    "Grade3= 28"
   ]
  },
  {
   "cell_type": "code",
   "execution_count": 2,
   "id": "910886d7",
   "metadata": {},
   "outputs": [
    {
     "data": {
      "text/plain": [
       "83"
      ]
     },
     "execution_count": 2,
     "metadata": {},
     "output_type": "execute_result"
    }
   ],
   "source": [
    "# Calculate and display the total number of students\n",
    "\n",
    "Total_Students = Grade1+Grade2+Grade3\n",
    "Total_Students"
   ]
  },
  {
   "cell_type": "code",
   "execution_count": 3,
   "id": "b5c3d5b9",
   "metadata": {},
   "outputs": [
    {
     "data": {
      "text/plain": [
       "27.666666666666668"
      ]
     },
     "execution_count": 3,
     "metadata": {},
     "output_type": "execute_result"
    }
   ],
   "source": [
    "# Calculate and display the average number of students per grade\n",
    "\n",
    "Average_students = Total_Students/3\n",
    "Average_students"
   ]
  },
  {
   "cell_type": "markdown",
   "id": "a0393e36",
   "metadata": {},
   "source": [
    "### 2. Variable Assignment and String Manipulation"
   ]
  },
  {
   "cell_type": "code",
   "execution_count": 4,
   "id": "39774235",
   "metadata": {},
   "outputs": [],
   "source": [
    "# Store the messages in variables corresponding to each grade.\n",
    "\n",
    "Grade1= \"Welcome to Grade 1! We are excited to have you.\"\n",
    "Grade2= \"Hello Grade2 students! Get ready to learn and have fun.\"\n",
    "Grade3= \"Welcome to Grade3 students.Let's make this a great year of learning.\""
   ]
  },
  {
   "cell_type": "code",
   "execution_count": 5,
   "id": "39f247ba",
   "metadata": {},
   "outputs": [
    {
     "name": "stdout",
     "output_type": "stream",
     "text": [
      "Hello Grade2 students! Get ready to learn and have fun.\n"
     ]
    }
   ],
   "source": [
    "# Display the messages for Grade 2.\n",
    "\n",
    "print(Grade2)"
   ]
  },
  {
   "cell_type": "markdown",
   "id": "da07255f",
   "metadata": {},
   "source": [
    "### 3. Lists and Dictionaries"
   ]
  },
  {
   "cell_type": "code",
   "execution_count": 6,
   "id": "f09bdc44",
   "metadata": {},
   "outputs": [
    {
     "data": {
      "text/plain": [
       "['G1', 'G2', 'G3']"
      ]
     },
     "execution_count": 6,
     "metadata": {},
     "output_type": "execute_result"
    }
   ],
   "source": [
    "# List of grades\n",
    "\n",
    "list_grades = ['G1', 'G2', 'G3']\n",
    "list_grades"
   ]
  },
  {
   "cell_type": "code",
   "execution_count": 7,
   "id": "38306f51",
   "metadata": {},
   "outputs": [],
   "source": [
    "# List of subjects for each grade.\n",
    "\n",
    "G1= ['Math', 'English', 'Science']\n",
    "G2= ['English', 'Science', 'History']\n",
    "G3= ['Science', 'History', 'Math']"
   ]
  },
  {
   "cell_type": "code",
   "execution_count": 8,
   "id": "0106d985",
   "metadata": {},
   "outputs": [],
   "source": [
    "# Dictionary where keys are the grade names and values are lists of teachers for each grade.\n",
    "\n",
    "teachers_per_grade= {'G1': ['Mr. Smith', ' Ms. Johnson', 'Mr. Davis'],\n",
    "                     'G2': ['Ms. Williams', 'Mr. Davis', 'Ms. Brown'],\n",
    "                     'G3': ['Ms. Davis', 'Mr. Johnson', 'Mr. Smith']} "
   ]
  },
  {
   "cell_type": "code",
   "execution_count": 9,
   "id": "20e73522",
   "metadata": {},
   "outputs": [
    {
     "name": "stdout",
     "output_type": "stream",
     "text": [
      "['Science', 'History', 'Math']\n"
     ]
    }
   ],
   "source": [
    "# Display the subjects taught in Grade 3.\n",
    "\n",
    "print(G3)"
   ]
  },
  {
   "cell_type": "code",
   "execution_count": 10,
   "id": "f38088b6",
   "metadata": {},
   "outputs": [
    {
     "data": {
      "text/plain": [
       "['Ms. Williams', 'Mr. Davis', 'Ms. Brown']"
      ]
     },
     "execution_count": 10,
     "metadata": {},
     "output_type": "execute_result"
    }
   ],
   "source": [
    "# Display the values of Grade 2 in the dictionary.\n",
    "\n",
    "teachers_per_grade['G2']"
   ]
  }
 ],
 "metadata": {
  "kernelspec": {
   "display_name": "Python 3 (ipykernel)",
   "language": "python",
   "name": "python3"
  },
  "language_info": {
   "codemirror_mode": {
    "name": "ipython",
    "version": 3
   },
   "file_extension": ".py",
   "mimetype": "text/x-python",
   "name": "python",
   "nbconvert_exporter": "python",
   "pygments_lexer": "ipython3",
   "version": "3.11.4"
  }
 },
 "nbformat": 4,
 "nbformat_minor": 5
}
